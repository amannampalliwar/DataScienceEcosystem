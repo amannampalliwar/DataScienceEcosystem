{
 "cells": [
  {
   "cell_type": "markdown",
   "id": "6872081d-1d98-4e49-9f68-8a3c1616af6e",
   "metadata": {},
   "source": [
    "# Data Science Tools and Ecosystem"
   ]
  },
  {
   "cell_type": "markdown",
   "id": "fdbb0db7-8cde-4b0b-96d6-fed3430df585",
   "metadata": {},
   "source": [
    "In this notebook, Data Science Tools and Ecosystem are summarized."
   ]
  },
  {
   "cell_type": "markdown",
   "id": "39a21559-c29b-4fba-aee8-9f9c77751ea0",
   "metadata": {},
   "source": [
    "Some of the popular languages that Data Scientists use are:\n",
    "1. Python\n",
    "2. SQL\n",
    "3. R\n",
    "4. Julia"
   ]
  },
  {
   "cell_type": "markdown",
   "id": "0131c4be-3130-4002-afaa-5eedbcd1af83",
   "metadata": {},
   "source": [
    "Some of the commonly used libraries used by Data Scientists include:\n",
    "1. Pandas\n",
    "2. NumPy\n",
    "3. SciPy\n",
    "4. TensorFlow"
   ]
  },
  {
   "cell_type": "markdown",
   "id": "03313ba5-a370-4076-b8d9-56e3f94d69a7",
   "metadata": {},
   "source": [
    "|Data Science Tools|\n",
    "|-----|\n",
    "|TensorFlow|\n",
    "|SAS|\n",
    "|JupyterNotebook|"
   ]
  },
  {
   "cell_type": "markdown",
   "id": "7515509a-0bb7-4acc-9ef6-b7ab38ae195d",
   "metadata": {},
   "source": [
    "### Below are a few examples of evaluating arithmetic expressions in Python\n",
    "### (3-5)*6\n",
    "### (6-9)*3\n",
    "### 2*(3+3)"
   ]
  },
  {
   "cell_type": "code",
   "execution_count": 2,
   "id": "761fd9e2-f7b3-47aa-b3c3-98dcbf598b8b",
   "metadata": {},
   "outputs": [
    {
     "data": {
      "text/plain": [
       "17"
      ]
     },
     "execution_count": 2,
     "metadata": {},
     "output_type": "execute_result"
    }
   ],
   "source": [
    " #This a simple arithmetic expression to mutiply then add integers\n",
    "(3*4)+5"
   ]
  },
  {
   "cell_type": "code",
   "execution_count": 3,
   "id": "45cffc84-a913-4487-b8af-68ff20638637",
   "metadata": {},
   "outputs": [
    {
     "name": "stdout",
     "output_type": "stream",
     "text": [
      "Hours= 3\n",
      "Minutes= 20\n"
     ]
    }
   ],
   "source": [
    "#This will convert 200 minutes to hours by diving by 60\n",
    "min=int(200)\n",
    "h=min//60\n",
    "m=min%60\n",
    "print(\"Hours=\",h)\n",
    "print(\"Minutes=\",m)"
   ]
  },
  {
   "cell_type": "markdown",
   "id": "91800f2f-a590-4e1f-b562-68c262af64b1",
   "metadata": {},
   "source": [
    "In this notebook, Data Science Tools and Ecosystem are summarized."
   ]
  },
  {
   "cell_type": "markdown",
   "id": "c0cb8574-5a99-43e4-b468-1a94c7eef660",
   "metadata": {},
   "source": [
    "__Objectives:__\n",
    "- List popular languages for Data Science\n",
    "- List popular tools for Data Science\n",
    "- List popular libraries for Data Science"
   ]
  },
  {
   "cell_type": "markdown",
   "id": "429b688a-b281-46a6-85b5-ee092e3e4fcb",
   "metadata": {},
   "source": [
    "## Author\n",
    "Aman Sharad Nampalliwar"
   ]
  },
  {
   "cell_type": "code",
   "execution_count": null,
   "id": "22681e3a-c933-4bd6-9da3-e14bae0da8a6",
   "metadata": {},
   "outputs": [],
   "source": []
  }
 ],
 "metadata": {
  "kernelspec": {
   "display_name": "Python 3 (ipykernel)",
   "language": "python",
   "name": "python3"
  },
  "language_info": {
   "codemirror_mode": {
    "name": "ipython",
    "version": 3
   },
   "file_extension": ".py",
   "mimetype": "text/x-python",
   "name": "python",
   "nbconvert_exporter": "python",
   "pygments_lexer": "ipython3",
   "version": "3.12.3"
  }
 },
 "nbformat": 4,
 "nbformat_minor": 5
}
